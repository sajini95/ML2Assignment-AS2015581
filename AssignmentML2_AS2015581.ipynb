{
  "nbformat": 4,
  "nbformat_minor": 0,
  "metadata": {
    "colab": {
      "name": "Untitled0.ipynb",
      "version": "0.3.2",
      "provenance": [],
      "collapsed_sections": [],
      "toc_visible": true
    },
    "kernelspec": {
      "name": "python3",
      "display_name": "Python 3"
    },
    "accelerator": "GPU"
  },
  "cells": [
    {
      "metadata": {
        "id": "fLfMeHr1cKbW",
        "colab_type": "code",
        "colab": {}
      },
      "cell_type": "code",
      "source": [
        "import tensorflow \n",
        "from scipy.io import arff\n",
        "import pandas as pd\n",
        "import numpy as np\n",
        "import matplotlib.pyplot as plt\n",
        "import math\n",
        "\n",
        "import numpy\n",
        "from keras.models import Sequential\n",
        "from keras.layers import Dense\n",
        "from keras.layers import LSTM\n",
        "from keras.utils import np_utils\n",
        "from sklearn import preprocessing\n",
        "from keras.layers import Dense, Dropout,Activation\n",
        "from sklearn.model_selection import train_test_split\n",
        "\n",
        "\n",
        "\n",
        "from math import sin\n",
        "from math import radians\n"
      ],
      "execution_count": 0,
      "outputs": []
    },
    {
      "metadata": {
        "id": "d8g-vm_JGTnb",
        "colab_type": "code",
        "colab": {}
      },
      "cell_type": "code",
      "source": [
        "#data preprocessing-------------------------------------------------------------------------------------\n",
        "\n",
        "\n",
        "#importing data set\n",
        "data = arff.loadarff('EEG_Eye_State.arff')\n",
        "df = pd.DataFrame(data[0])\n",
        "\n",
        "df.head()\n",
        "df.shape[0]\n",
        "\"\"\"\n",
        "model = Sequential()\n",
        "model.add(LSTM(32, input_shape=(df.index, 13)))\n",
        "model.add(Dense(1))\n",
        "\"\"\"\n",
        "\n",
        "\n",
        "##convertion of data type \n",
        "df['eyeDetection'] = df['eyeDetection'].astype('int64')"
      ],
      "execution_count": 0,
      "outputs": []
    },
    {
      "metadata": {
        "id": "v7Ykm3Od87mn",
        "colab_type": "code",
        "colab": {}
      },
      "cell_type": "code",
      "source": [
        ""
      ],
      "execution_count": 0,
      "outputs": []
    },
    {
      "metadata": {
        "id": "Eb-UlsDb9Q2_",
        "colab_type": "code",
        "outputId": "27de6466-3d41-45b2-d4fe-708080c6825a",
        "colab": {
          "base_uri": "https://localhost:8080/",
          "height": 151
        }
      },
      "cell_type": "code",
      "source": [
        "\n",
        "#put into a dataframe\n",
        "numpy_matrix = df.as_matrix()\n",
        "#print (numpy_matrix)\n",
        "\n",
        "\n",
        "#slice array as data and target\n",
        "data=numpy_matrix[:,:-1]\n",
        "target=numpy_matrix[:,14]\n",
        "\n",
        "print (data)\n",
        "print (target)"
      ],
      "execution_count": 0,
      "outputs": [
        {
          "output_type": "stream",
          "text": [
            "[[4329.23 4009.23 4289.23 ... 4280.51 4635.9  4393.85]\n",
            " [4324.62 4004.62 4293.85 ... 4279.49 4632.82 4384.1 ]\n",
            " [4327.69 4006.67 4295.38 ... 4282.05 4628.72 4389.23]\n",
            " ...\n",
            " [4277.44 3990.77 4246.67 ... 4257.95 4591.79 4339.49]\n",
            " [4284.62 3991.79 4251.28 ... 4267.18 4596.41 4350.77]\n",
            " [4287.69 3997.44 4260.   ... 4274.36 4597.95 4350.77]]\n",
            "[0. 0. 0. ... 1. 1. 1.]\n"
          ],
          "name": "stdout"
        }
      ]
    },
    {
      "metadata": {
        "id": "Jt7qzQo1X7nQ",
        "colab_type": "code",
        "colab": {}
      },
      "cell_type": "code",
      "source": [
        "#data set split as train set and test set.\n",
        "\n",
        "#nrow(data)\n",
        "smp_size=int((0.8 *len(df)))\n",
        "data_train=data[smp_size,:]\n",
        "#target=numpy_matrix[:,14]\n",
        "\n"
      ],
      "execution_count": 0,
      "outputs": []
    },
    {
      "metadata": {
        "id": "qfDxmuEf92XC",
        "colab_type": "code",
        "colab": {}
      },
      "cell_type": "code",
      "source": [
        "#data preparation for Models\n",
        "\n",
        "# fix random seed for reproducibility\n",
        "numpy.random.seed(7)\n",
        "\n"
      ],
      "execution_count": 0,
      "outputs": []
    },
    {
      "metadata": {
        "id": "K3gEb7lOKdBd",
        "colab_type": "code",
        "outputId": "2676e033-9ea0-4b9d-f067-74587dc81072",
        "colab": {
          "base_uri": "https://localhost:8080/",
          "height": 34
        }
      },
      "cell_type": "code",
      "source": [
        "data = df.iloc[:,:-1]\n",
        "target = df.iloc[:,14:]\n",
        "x_train,x_test,y_train,y_test = train_test_split(data,target,test_size = 0.2,random_state = 40)\n",
        "x_train = preprocessing.normalize(x_train)\n",
        "x_test = preprocessing.normalize(x_test)\n",
        "\n",
        "x_train = np.array(x_train)\n",
        "y_train = np.array(y_train)\n",
        "\n",
        "y_train.shape\n",
        "x_train.shape"
      ],
      "execution_count": 0,
      "outputs": [
        {
          "output_type": "execute_result",
          "data": {
            "text/plain": [
              "(11984, 14)"
            ]
          },
          "metadata": {
            "tags": []
          },
          "execution_count": 39
        }
      ]
    },
    {
      "metadata": {
        "id": "O7OYNJQj_CM6",
        "colab_type": "code",
        "outputId": "1bb537eb-4512-42d2-acdf-eb73f5ca0f4e",
        "colab": {
          "base_uri": "https://localhost:8080/",
          "height": 235
        }
      },
      "cell_type": "code",
      "source": [
        "x_train"
      ],
      "execution_count": 0,
      "outputs": [
        {
          "output_type": "execute_result",
          "data": {
            "text/plain": [
              "array([[0.26682229, 0.25109883, 0.26523734, ..., 0.26476197, 0.28495472,\n",
              "        0.26983396],\n",
              "       [0.26725807, 0.2491204 , 0.26490329, ..., 0.26627148, 0.28514071,\n",
              "        0.27142655],\n",
              "       [0.26686956, 0.24874081, 0.26457574, ..., 0.26543623, 0.2858911 ,\n",
              "        0.27050226],\n",
              "       ...,\n",
              "       [0.26761216, 0.24627328, 0.26459148, ..., 0.26564075, 0.28799726,\n",
              "        0.27219186],\n",
              "       [0.26441032, 0.25145592, 0.26344802, ..., 0.26457039, 0.284611  ,\n",
              "        0.26809755],\n",
              "       [0.26707925, 0.25004566, 0.26430386, ..., 0.26455889, 0.28471866,\n",
              "        0.27055563]])"
            ]
          },
          "metadata": {
            "tags": []
          },
          "execution_count": 40
        }
      ]
    },
    {
      "metadata": {
        "id": "6DjsFnVtA3sQ",
        "colab_type": "code",
        "colab": {}
      },
      "cell_type": "code",
      "source": [
        "N = x_train.shape[0]\n",
        "n = x_test.shape[0]\n",
        "L = 10"
      ],
      "execution_count": 0,
      "outputs": []
    },
    {
      "metadata": {
        "id": "HiID-t3RA63a",
        "colab_type": "code",
        "colab": {}
      },
      "cell_type": "code",
      "source": [
        "x_train_seq = []\n",
        "y_train_seq = []\n",
        "x_test_seq = []\n",
        "y_test_seq = []"
      ],
      "execution_count": 0,
      "outputs": []
    },
    {
      "metadata": {
        "id": "HgFiBJLvA-bX",
        "colab_type": "code",
        "colab": {}
      },
      "cell_type": "code",
      "source": [
        "for k in range(N -L +1):\n",
        "    x_train_seq.append(x_train[k:k+L])\n",
        "    y_train_seq.append(y_train[k:k+L])\n",
        "x_train_seq = np.array(x_train_seq)\n",
        "y_train_seq = np.array(y_train_seq)"
      ],
      "execution_count": 0,
      "outputs": []
    },
    {
      "metadata": {
        "id": "EIaFBYumBHcx",
        "colab_type": "code",
        "outputId": "f84ad444-77cd-4516-dc60-3d4516dc61a6",
        "colab": {
          "base_uri": "https://localhost:8080/",
          "height": 195
        }
      },
      "cell_type": "code",
      "source": [
        "for k in range(n -L +1):\n",
        "    x_test_seq.append(x_test[k:k+L])\n",
        "    y_test_seq.append(y_test[k:k+L])\n",
        "x_test_seq = np.array(x_test_seq)\n",
        "y_test_seq = np.array(y_test_seq)"
      ],
      "execution_count": 0,
      "outputs": [
        {
          "output_type": "error",
          "ename": "ValueError",
          "evalue": "ignored",
          "traceback": [
            "\u001b[0;31m---------------------------------------------------------------------------\u001b[0m",
            "\u001b[0;31mValueError\u001b[0m                                Traceback (most recent call last)",
            "\u001b[0;32m<ipython-input-44-11df3e933132>\u001b[0m in \u001b[0;36m<module>\u001b[0;34m()\u001b[0m\n\u001b[1;32m      3\u001b[0m     \u001b[0my_test_seq\u001b[0m\u001b[0;34m.\u001b[0m\u001b[0mappend\u001b[0m\u001b[0;34m(\u001b[0m\u001b[0my_test\u001b[0m\u001b[0;34m[\u001b[0m\u001b[0mk\u001b[0m\u001b[0;34m:\u001b[0m\u001b[0mk\u001b[0m\u001b[0;34m+\u001b[0m\u001b[0mL\u001b[0m\u001b[0;34m]\u001b[0m\u001b[0;34m)\u001b[0m\u001b[0;34m\u001b[0m\u001b[0;34m\u001b[0m\u001b[0m\n\u001b[1;32m      4\u001b[0m \u001b[0mx_test_seq\u001b[0m \u001b[0;34m=\u001b[0m \u001b[0mnp\u001b[0m\u001b[0;34m.\u001b[0m\u001b[0marray\u001b[0m\u001b[0;34m(\u001b[0m\u001b[0mx_test_seq\u001b[0m\u001b[0;34m)\u001b[0m\u001b[0;34m\u001b[0m\u001b[0;34m\u001b[0m\u001b[0m\n\u001b[0;32m----> 5\u001b[0;31m \u001b[0my_test_seq\u001b[0m \u001b[0;34m=\u001b[0m \u001b[0mnp\u001b[0m\u001b[0;34m.\u001b[0m\u001b[0marray\u001b[0m\u001b[0;34m(\u001b[0m\u001b[0my_test_seq\u001b[0m\u001b[0;34m)\u001b[0m\u001b[0;34m\u001b[0m\u001b[0;34m\u001b[0m\u001b[0m\n\u001b[0m",
            "\u001b[0;31mValueError\u001b[0m: cannot copy sequence with size 10 to array axis with dimension 1"
          ]
        }
      ]
    },
    {
      "metadata": {
        "id": "FBNqZyjwBLQR",
        "colab_type": "code",
        "outputId": "ed9bb32a-9134-4490-c263-edd99e53e300",
        "colab": {
          "base_uri": "https://localhost:8080/",
          "height": 840
        }
      },
      "cell_type": "code",
      "source": [
        "y_train_seq"
      ],
      "execution_count": 0,
      "outputs": [
        {
          "output_type": "execute_result",
          "data": {
            "text/plain": [
              "array([[[0],\n",
              "        [1],\n",
              "        [0],\n",
              "        ...,\n",
              "        [0],\n",
              "        [1],\n",
              "        [0]],\n",
              "\n",
              "       [[1],\n",
              "        [0],\n",
              "        [1],\n",
              "        ...,\n",
              "        [1],\n",
              "        [0],\n",
              "        [1]],\n",
              "\n",
              "       [[0],\n",
              "        [1],\n",
              "        [0],\n",
              "        ...,\n",
              "        [0],\n",
              "        [1],\n",
              "        [1]],\n",
              "\n",
              "       ...,\n",
              "\n",
              "       [[1],\n",
              "        [1],\n",
              "        [0],\n",
              "        ...,\n",
              "        [1],\n",
              "        [0],\n",
              "        [0]],\n",
              "\n",
              "       [[1],\n",
              "        [0],\n",
              "        [0],\n",
              "        ...,\n",
              "        [0],\n",
              "        [0],\n",
              "        [0]],\n",
              "\n",
              "       [[0],\n",
              "        [0],\n",
              "        [1],\n",
              "        ...,\n",
              "        [0],\n",
              "        [0],\n",
              "        [1]]])"
            ]
          },
          "metadata": {
            "tags": []
          },
          "execution_count": 46
        }
      ]
    },
    {
      "metadata": {
        "id": "jtTyrQWRB6Bq",
        "colab_type": "code",
        "colab": {}
      },
      "cell_type": "code",
      "source": [
        "model = Sequential()"
      ],
      "execution_count": 0,
      "outputs": []
    },
    {
      "metadata": {
        "id": "5CqDxWwpB7Vc",
        "colab_type": "code",
        "colab": {}
      },
      "cell_type": "code",
      "source": [
        "model.add(LSTM(1, return_sequences=True,input_shape=(x_train_seq.shape[1],x_train_seq.shape[2])))\n",
        "model.add(Dropout(0.2))\n",
        "\n",
        "model.add(LSTM(32,return_sequences = True))\n",
        "model.add(Dropout(0.2))\n",
        "\n",
        "model.add(Dense(1, activation ='softmax'))"
      ],
      "execution_count": 0,
      "outputs": []
    },
    {
      "metadata": {
        "id": "MtEBaSFWCCzu",
        "colab_type": "code",
        "colab": {}
      },
      "cell_type": "code",
      "source": [
        "model.compile(loss='mean_squared_error',\n",
        "              optimizer='adam',\n",
        "              metrics=['accuracy'])"
      ],
      "execution_count": 0,
      "outputs": []
    },
    {
      "metadata": {
        "id": "melzr6_FCFal",
        "colab_type": "code",
        "colab": {}
      },
      "cell_type": "code",
      "source": [
        "model.output_shape"
      ],
      "execution_count": 0,
      "outputs": []
    },
    {
      "metadata": {
        "id": "uXOT3CCCCICz",
        "colab_type": "code",
        "outputId": "90b23b78-4831-4d33-8edf-ea63b6830ee5",
        "colab": {
          "base_uri": "https://localhost:8080/",
          "height": 162
        }
      },
      "cell_type": "code",
      "source": [
        "history = model.fit(x_train_seq, y_train_seq, batch_size=100, epochs=100 )"
      ],
      "execution_count": 0,
      "outputs": [
        {
          "output_type": "error",
          "ename": "NameError",
          "evalue": "ignored",
          "traceback": [
            "\u001b[0;31m---------------------------------------------------------------------------\u001b[0m",
            "\u001b[0;31mNameError\u001b[0m                                 Traceback (most recent call last)",
            "\u001b[0;32m<ipython-input-45-69880518cb41>\u001b[0m in \u001b[0;36m<module>\u001b[0;34m()\u001b[0m\n\u001b[0;32m----> 1\u001b[0;31m \u001b[0mhistory\u001b[0m \u001b[0;34m=\u001b[0m \u001b[0mmodel\u001b[0m\u001b[0;34m.\u001b[0m\u001b[0mfit\u001b[0m\u001b[0;34m(\u001b[0m\u001b[0mx_train_seq\u001b[0m\u001b[0;34m,\u001b[0m \u001b[0my_train_seq\u001b[0m\u001b[0;34m,\u001b[0m \u001b[0mbatch_size\u001b[0m\u001b[0;34m=\u001b[0m\u001b[0;36m100\u001b[0m\u001b[0;34m,\u001b[0m \u001b[0mepochs\u001b[0m\u001b[0;34m=\u001b[0m\u001b[0;36m100\u001b[0m \u001b[0;34m)\u001b[0m\u001b[0;34m\u001b[0m\u001b[0;34m\u001b[0m\u001b[0m\n\u001b[0m",
            "\u001b[0;31mNameError\u001b[0m: name 'model' is not defined"
          ]
        }
      ]
    }
  ]
}